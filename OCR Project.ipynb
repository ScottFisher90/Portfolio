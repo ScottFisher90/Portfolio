{
 "cells": [
  {
   "cell_type": "markdown",
   "id": "be2869ea",
   "metadata": {},
   "source": [
    "<h1>Optical Character Recognition</h1>\n",
    "In this project, classification is done upon images of hand written characters. A few techniques are used as classifiers, namely SGDClassifier and SVC. Accuracy and common prediction errors are discussed."
   ]
  },
  {
   "cell_type": "code",
   "execution_count": 113,
   "id": "bede6e52",
   "metadata": {},
   "outputs": [],
   "source": [
    "#import necessary libraries\n",
    "import pandas as pd\n",
    "import numpy as np\n",
    "from sklearn.linear_model import SGDClassifier\n",
    "import matplotlib.pyplot as plt\n",
    "import seaborn as sns\n",
    "from sklearn.preprocessing import StandardScaler\n",
    "from sklearn.pipeline import Pipeline\n",
    "from sklearn.model_selection import GridSearchCV, RandomizedSearchCV, train_test_split\n",
    "from sklearn.metrics import confusion_matrix"
   ]
  },
  {
   "cell_type": "code",
   "execution_count": 2,
   "id": "72e06720",
   "metadata": {},
   "outputs": [
    {
     "data": {
      "text/html": [
       "<div>\n",
       "<style scoped>\n",
       "    .dataframe tbody tr th:only-of-type {\n",
       "        vertical-align: middle;\n",
       "    }\n",
       "\n",
       "    .dataframe tbody tr th {\n",
       "        vertical-align: top;\n",
       "    }\n",
       "\n",
       "    .dataframe thead th {\n",
       "        text-align: right;\n",
       "    }\n",
       "</style>\n",
       "<table border=\"1\" class=\"dataframe\">\n",
       "  <thead>\n",
       "    <tr style=\"text-align: right;\">\n",
       "      <th></th>\n",
       "      <th>label</th>\n",
       "      <th>pixel0</th>\n",
       "      <th>pixel1</th>\n",
       "      <th>pixel2</th>\n",
       "      <th>pixel3</th>\n",
       "      <th>pixel4</th>\n",
       "      <th>pixel5</th>\n",
       "      <th>pixel6</th>\n",
       "      <th>pixel7</th>\n",
       "      <th>pixel8</th>\n",
       "      <th>...</th>\n",
       "      <th>pixel774</th>\n",
       "      <th>pixel775</th>\n",
       "      <th>pixel776</th>\n",
       "      <th>pixel777</th>\n",
       "      <th>pixel778</th>\n",
       "      <th>pixel779</th>\n",
       "      <th>pixel780</th>\n",
       "      <th>pixel781</th>\n",
       "      <th>pixel782</th>\n",
       "      <th>pixel783</th>\n",
       "    </tr>\n",
       "  </thead>\n",
       "  <tbody>\n",
       "    <tr>\n",
       "      <th>0</th>\n",
       "      <td>1</td>\n",
       "      <td>0</td>\n",
       "      <td>0</td>\n",
       "      <td>0</td>\n",
       "      <td>0</td>\n",
       "      <td>0</td>\n",
       "      <td>0</td>\n",
       "      <td>0</td>\n",
       "      <td>0</td>\n",
       "      <td>0</td>\n",
       "      <td>...</td>\n",
       "      <td>0</td>\n",
       "      <td>0</td>\n",
       "      <td>0</td>\n",
       "      <td>0</td>\n",
       "      <td>0</td>\n",
       "      <td>0</td>\n",
       "      <td>0</td>\n",
       "      <td>0</td>\n",
       "      <td>0</td>\n",
       "      <td>0</td>\n",
       "    </tr>\n",
       "    <tr>\n",
       "      <th>1</th>\n",
       "      <td>0</td>\n",
       "      <td>0</td>\n",
       "      <td>0</td>\n",
       "      <td>0</td>\n",
       "      <td>0</td>\n",
       "      <td>0</td>\n",
       "      <td>0</td>\n",
       "      <td>0</td>\n",
       "      <td>0</td>\n",
       "      <td>0</td>\n",
       "      <td>...</td>\n",
       "      <td>0</td>\n",
       "      <td>0</td>\n",
       "      <td>0</td>\n",
       "      <td>0</td>\n",
       "      <td>0</td>\n",
       "      <td>0</td>\n",
       "      <td>0</td>\n",
       "      <td>0</td>\n",
       "      <td>0</td>\n",
       "      <td>0</td>\n",
       "    </tr>\n",
       "    <tr>\n",
       "      <th>2</th>\n",
       "      <td>1</td>\n",
       "      <td>0</td>\n",
       "      <td>0</td>\n",
       "      <td>0</td>\n",
       "      <td>0</td>\n",
       "      <td>0</td>\n",
       "      <td>0</td>\n",
       "      <td>0</td>\n",
       "      <td>0</td>\n",
       "      <td>0</td>\n",
       "      <td>...</td>\n",
       "      <td>0</td>\n",
       "      <td>0</td>\n",
       "      <td>0</td>\n",
       "      <td>0</td>\n",
       "      <td>0</td>\n",
       "      <td>0</td>\n",
       "      <td>0</td>\n",
       "      <td>0</td>\n",
       "      <td>0</td>\n",
       "      <td>0</td>\n",
       "    </tr>\n",
       "    <tr>\n",
       "      <th>3</th>\n",
       "      <td>4</td>\n",
       "      <td>0</td>\n",
       "      <td>0</td>\n",
       "      <td>0</td>\n",
       "      <td>0</td>\n",
       "      <td>0</td>\n",
       "      <td>0</td>\n",
       "      <td>0</td>\n",
       "      <td>0</td>\n",
       "      <td>0</td>\n",
       "      <td>...</td>\n",
       "      <td>0</td>\n",
       "      <td>0</td>\n",
       "      <td>0</td>\n",
       "      <td>0</td>\n",
       "      <td>0</td>\n",
       "      <td>0</td>\n",
       "      <td>0</td>\n",
       "      <td>0</td>\n",
       "      <td>0</td>\n",
       "      <td>0</td>\n",
       "    </tr>\n",
       "    <tr>\n",
       "      <th>4</th>\n",
       "      <td>0</td>\n",
       "      <td>0</td>\n",
       "      <td>0</td>\n",
       "      <td>0</td>\n",
       "      <td>0</td>\n",
       "      <td>0</td>\n",
       "      <td>0</td>\n",
       "      <td>0</td>\n",
       "      <td>0</td>\n",
       "      <td>0</td>\n",
       "      <td>...</td>\n",
       "      <td>0</td>\n",
       "      <td>0</td>\n",
       "      <td>0</td>\n",
       "      <td>0</td>\n",
       "      <td>0</td>\n",
       "      <td>0</td>\n",
       "      <td>0</td>\n",
       "      <td>0</td>\n",
       "      <td>0</td>\n",
       "      <td>0</td>\n",
       "    </tr>\n",
       "  </tbody>\n",
       "</table>\n",
       "<p>5 rows × 785 columns</p>\n",
       "</div>"
      ],
      "text/plain": [
       "   label  pixel0  pixel1  pixel2  pixel3  pixel4  pixel5  pixel6  pixel7  \\\n",
       "0      1       0       0       0       0       0       0       0       0   \n",
       "1      0       0       0       0       0       0       0       0       0   \n",
       "2      1       0       0       0       0       0       0       0       0   \n",
       "3      4       0       0       0       0       0       0       0       0   \n",
       "4      0       0       0       0       0       0       0       0       0   \n",
       "\n",
       "   pixel8  ...  pixel774  pixel775  pixel776  pixel777  pixel778  pixel779  \\\n",
       "0       0  ...         0         0         0         0         0         0   \n",
       "1       0  ...         0         0         0         0         0         0   \n",
       "2       0  ...         0         0         0         0         0         0   \n",
       "3       0  ...         0         0         0         0         0         0   \n",
       "4       0  ...         0         0         0         0         0         0   \n",
       "\n",
       "   pixel780  pixel781  pixel782  pixel783  \n",
       "0         0         0         0         0  \n",
       "1         0         0         0         0  \n",
       "2         0         0         0         0  \n",
       "3         0         0         0         0  \n",
       "4         0         0         0         0  \n",
       "\n",
       "[5 rows x 785 columns]"
      ]
     },
     "execution_count": 2,
     "metadata": {},
     "output_type": "execute_result"
    }
   ],
   "source": [
    "#import training data, and print head\n",
    "df = pd.read_csv('train.csv')\n",
    "df.head()"
   ]
  },
  {
   "cell_type": "code",
   "execution_count": 50,
   "id": "c290d683",
   "metadata": {},
   "outputs": [],
   "source": [
    "#import test data and convert to array\n",
    "test_array = pd.read_csv('test.csv').to_numpy()"
   ]
  },
  {
   "cell_type": "code",
   "execution_count": 99,
   "id": "80dc8b35",
   "metadata": {},
   "outputs": [],
   "source": [
    "#make arrays and split training data\n",
    "train_labels_temp = df['label'].to_numpy()\n",
    "train_data_temp = df.drop(labels='label', axis=1).to_numpy()\n",
    "train_data, test_data, train_labels, test_labels = train_test_split(train_data_temp, train_labels_temp, test_size=.2)"
   ]
  },
  {
   "cell_type": "code",
   "execution_count": 37,
   "id": "72a99a51",
   "metadata": {},
   "outputs": [],
   "source": [
    "#initialize an SGD classifier\n",
    "sgd_clf = SGDClassifier()"
   ]
  },
  {
   "cell_type": "code",
   "execution_count": 38,
   "id": "8f979874",
   "metadata": {},
   "outputs": [
    {
     "data": {
      "text/plain": [
       "SGDClassifier()"
      ]
     },
     "execution_count": 38,
     "metadata": {},
     "output_type": "execute_result"
    }
   ],
   "source": [
    "#fit classifier to training data\n",
    "sgd_clf.fit(train_data, train_labels)"
   ]
  },
  {
   "cell_type": "code",
   "execution_count": 41,
   "id": "19dcd069",
   "metadata": {},
   "outputs": [
    {
     "data": {
      "text/plain": [
       "array([8])"
      ]
     },
     "execution_count": 41,
     "metadata": {},
     "output_type": "execute_result"
    }
   ],
   "source": [
    "sgd_clf.predict(train_data[30].reshape(1,-1))"
   ]
  },
  {
   "cell_type": "code",
   "execution_count": 43,
   "id": "51521515",
   "metadata": {},
   "outputs": [
    {
     "data": {
      "image/png": "[encoded data removed]",
      "text/plain": [
       "<Figure size 432x288 with 1 Axes>"
      ]
     },
     "metadata": {
      "needs_background": "light"
     },
     "output_type": "display_data"
    }
   ],
   "source": [
    "digit = train_data[30].reshape(28,28)\n",
    "plt.imshow(digit, cmap = plt.cm.binary)\n",
    "plt.axis('off')\n",
    "plt.show()"
   ]
  },
  {
   "cell_type": "markdown",
   "id": "db87dafb",
   "metadata": {},
   "source": [
    "In the above two cells, we predicted that at train_data[30] is an 8, and printed the actual digit to see that it was an 8 and our model was correct for this particular index."
   ]
  },
  {
   "cell_type": "code",
   "execution_count": 46,
   "id": "24057d1b",
   "metadata": {},
   "outputs": [
    {
     "name": "stdout",
     "output_type": "stream",
     "text": [
      "0.9083571428571429\n"
     ]
    }
   ],
   "source": [
    "print(sgd_clf.score(train_data, train_labels))"
   ]
  },
  {
   "cell_type": "markdown",
   "id": "a3463f39",
   "metadata": {},
   "source": [
    "The base accuracy above of 90.8%, is good, but we will see how much this can be improved in the next section."
   ]
  },
  {
   "cell_type": "markdown",
   "id": "6519a0d7",
   "metadata": {},
   "source": [
    "<h2>Tuning the Model</h2>\n",
    "The first step we will take is to scale the data and put it in a pipeline with the SGDClassifier:"
   ]
  },
  {
   "cell_type": "code",
   "execution_count": 47,
   "id": "74327485",
   "metadata": {},
   "outputs": [
    {
     "data": {
      "text/plain": [
       "Pipeline(steps=[('scaler', StandardScaler()), ('sgd', SGDClassifier())])"
      ]
     },
     "execution_count": 47,
     "metadata": {},
     "output_type": "execute_result"
    }
   ],
   "source": [
    "steps = [('scaler', StandardScaler()), ('sgd', SGDClassifier())]\n",
    "pipeline = Pipeline(steps)\n",
    "pipeline.fit(train_data, train_labels)"
   ]
  },
  {
   "cell_type": "code",
   "execution_count": 51,
   "id": "00bc9a30",
   "metadata": {},
   "outputs": [
    {
     "data": {
      "text/plain": [
       "0.9186904761904762"
      ]
     },
     "execution_count": 51,
     "metadata": {},
     "output_type": "execute_result"
    }
   ],
   "source": [
    "pipeline.score(train_data, train_labels)"
   ]
  },
  {
   "cell_type": "markdown",
   "id": "21648314",
   "metadata": {},
   "source": [
    "Above, we find an almost 2% accuracy improvement by scaling the features. Next, we will tune the hyperparameters of the model:"
   ]
  },
  {
   "cell_type": "code",
   "execution_count": 102,
   "id": "e729b79b",
   "metadata": {},
   "outputs": [],
   "source": [
    "scaler = StandardScaler()\n",
    "scaled_train_data = scaler.fit_transform(train_data.astype(np.float64))\n",
    "scaled_test_data = scaler.fit_transform(test_data.astype(np.float64))"
   ]
  },
  {
   "cell_type": "code",
   "execution_count": 89,
   "id": "23723886",
   "metadata": {},
   "outputs": [
    {
     "name": "stdout",
     "output_type": "stream",
     "text": [
      "Fitting 5 folds for each of 10 candidates, totalling 50 fits\n"
     ]
    }
   ],
   "source": [
    "loss = ['hinge', 'log']\n",
    "penalty = ['l1', 'l2', 'elasticnet']\n",
    "alpha = [0.0001, 0.001, 0.01, 0.1, 1, 10, 100, 1000]\n",
    "class_weight = [{1:0.5, 0:0.5}, {1:0.4, 0:0.6}, {1:0.6, 0:0.4}, {1:0.7, 0:0.3}]\n",
    "eta0 = [1, 10, 100]\n",
    "\n",
    "param_distributions = dict(loss=loss,\n",
    "                           penalty=penalty,\n",
    "                           alpha=alpha,\n",
    "                           learning_rate=learning_rate,\n",
    "                           class_weight=class_weight,\n",
    "                           eta0=eta0)\n",
    "\n",
    "sgd1 = SGDClassifier()\n",
    "random = RandomizedSearchCV(estimator=sgd1, param_distributions=param_distributions, \n",
    "                            scoring='accuracy', verbose=1, n_jobs=-1, n_iter=10)\n",
    "\n",
    "random_result = random.fit(scaled_train_data, train_labels)"
   ]
  },
  {
   "cell_type": "code",
   "execution_count": 79,
   "id": "d35a5251",
   "metadata": {},
   "outputs": [
    {
     "name": "stdout",
     "output_type": "stream",
     "text": [
      "{'penalty': 'l2', 'loss': 'hinge', 'learning_rate': 'adaptive', 'eta0': 10, 'class_weight': {1: 0.5, 0: 0.5}, 'alpha': 0.001}\n"
     ]
    }
   ],
   "source": [
    "print(grid_result.best_params_)"
   ]
  },
  {
   "cell_type": "code",
   "execution_count": 90,
   "id": "d4a3da99",
   "metadata": {},
   "outputs": [
    {
     "data": {
      "text/plain": [
       "Pipeline(steps=[('scaler', StandardScaler()),\n",
       "                ('sgd',\n",
       "                 SGDClassifier(alpha=0.001, class_weight={0: 0.5, 1: 0.5},\n",
       "                               eta0=10, learning_rate='adaptive'))])"
      ]
     },
     "execution_count": 90,
     "metadata": {},
     "output_type": "execute_result"
    }
   ],
   "source": [
    "steps = [('scaler', StandardScaler()), ('sgd', SGDClassifier(loss='hinge', penalty='l2', eta0=10, alpha=.001, class_weight= {1: 0.5, 0: 0.5}, learning_rate = 'adaptive'))]\n",
    "pipeline = Pipeline(steps)\n",
    "pipeline.fit(train_data, train_labels)"
   ]
  },
  {
   "cell_type": "code",
   "execution_count": 91,
   "id": "15459c7c",
   "metadata": {},
   "outputs": [
    {
     "name": "stdout",
     "output_type": "stream",
     "text": [
      "0.9358809523809524\n"
     ]
    }
   ],
   "source": [
    "print(pipeline.score(train_data, train_labels))"
   ]
  },
  {
   "cell_type": "markdown",
   "id": "1fe69d0d",
   "metadata": {},
   "source": [
    "Above, we have improved training accuracy by an additional 1.8% by doing a random search for hyperparameter tuning. Next, we will try more tuning and new models. \n",
    "\n",
    "<h2>Support Vector Machine</h2>"
   ]
  },
  {
   "cell_type": "code",
   "execution_count": 101,
   "id": "49e92db6",
   "metadata": {},
   "outputs": [
    {
     "data": {
      "text/plain": [
       "SVC()"
      ]
     },
     "execution_count": 101,
     "metadata": {},
     "output_type": "execute_result"
    }
   ],
   "source": [
    "from sklearn.svm import SVC\n",
    "\n",
    "svc_classifier = SVC()\n",
    "svc_classifier.fit(scaled_train_data, train_labels)"
   ]
  },
  {
   "cell_type": "code",
   "execution_count": 108,
   "id": "3b984239",
   "metadata": {},
   "outputs": [
    {
     "data": {
      "text/plain": [
       "0.9860714285714286"
      ]
     },
     "execution_count": 108,
     "metadata": {},
     "output_type": "execute_result"
    }
   ],
   "source": [
    "svc_classifier.score(scaled_train_data, train_labels)"
   ]
  },
  {
   "cell_type": "code",
   "execution_count": 121,
   "id": "2fad514b",
   "metadata": {},
   "outputs": [
    {
     "data": {
      "text/plain": [
       "0.9576190476190476"
      ]
     },
     "execution_count": 121,
     "metadata": {},
     "output_type": "execute_result"
    }
   ],
   "source": [
    "svc_classifier.score(scaled_test_data, test_labels)"
   ]
  },
  {
   "cell_type": "markdown",
   "id": "179bb871",
   "metadata": {},
   "source": [
    "Above are the accuracy scores of the SVM for training and testing data. On the training set, an excellent 98.6% was achieved, while a score of 95.8% was achieved on the testing set."
   ]
  },
  {
   "cell_type": "code",
   "execution_count": 125,
   "id": "45b43de6",
   "metadata": {},
   "outputs": [
    {
     "data": {
      "text/plain": [
       "<AxesSubplot:>"
      ]
     },
     "execution_count": 125,
     "metadata": {},
     "output_type": "execute_result"
    },
    {
     "data": {
      "image/png": "[encoded data removed]",
      "text/plain": [
       "<Figure size 648x504 with 2 Axes>"
      ]
     },
     "metadata": {},
     "output_type": "display_data"
    }
   ],
   "source": [
    "pred_labels = svc_classifier.predict(scaled_test_data)\n",
    "matrix = confusion_matrix(test_labels, pred_labels)\n",
    "row_sum = matrix.sum(axis=1, keepdims=True)\n",
    "norm_matrix = matrix/row_sum\n",
    "np.fill_diagonal(norm_matrix, 0)\n",
    "sns.set(rc={'figure.figsize':(9,7)})\n",
    "sns.heatmap(data=norm_matrix)"
   ]
  },
  {
   "cell_type": "markdown",
   "id": "d736af1a",
   "metadata": {},
   "source": [
    "Above is a normalized confusion matrix for the testing data, with the diagonal set to zero. A few takeaways from this are:<ul>\n",
    "    <li>True 2's are the most misclassified number.</li>\n",
    "    <li>The highest misclassifcations in the test set are:</li>\n",
    "        <ul>\n",
    "            <li>2's being classified as 3's</li>\n",
    "            <li>4's being classified as 9's</li>\n",
    "            <li>9's being classified as 4's</li>\n",
    "        </ul>\n",
    "</ul>"
   ]
  },
  {
   "cell_type": "code",
   "execution_count": 127,
   "id": "c16975f1",
   "metadata": {},
   "outputs": [
    {
     "data": {
      "text/plain": [
       "<AxesSubplot:>"
      ]
     },
     "execution_count": 127,
     "metadata": {},
     "output_type": "execute_result"
    },
    {
     "data": {
      "image/png": "[encoded data removed]",
      "text/plain": [
       "<Figure size 648x504 with 2 Axes>"
      ]
     },
     "metadata": {},
     "output_type": "display_data"
    }
   ],
   "source": [
    "pred_labels = svc_classifier.predict(scaled_train_data)\n",
    "matrix = confusion_matrix(train_labels, pred_labels)\n",
    "row_sum = matrix.sum(axis=1, keepdims=True)\n",
    "norm_matrix = matrix/row_sum\n",
    "np.fill_diagonal(norm_matrix, 0)\n",
    "sns.set(rc={'figure.figsize':(9,7)})\n",
    "sns.heatmap(data=norm_matrix)"
   ]
  },
  {
   "cell_type": "markdown",
   "id": "944c7a80",
   "metadata": {},
   "source": [
    "Above is a normalized confusion matrix for the training data, with the diagonal set to zero. A few takeaways from this are:<ul>\n",
    "    <li>The highest misclassifcations in the test set are:</li>\n",
    "        <ul>\n",
    "            <li>7's being classified as 9's</li>\n",
    "            <li>9's being classified as 4's</li>\n",
    "        </ul>\n",
    "</ul>"
   ]
  },
  {
   "cell_type": "markdown",
   "id": "3d590af5",
   "metadata": {},
   "source": [
    "<h3>Improvements to the Model:</h3>\n",
    "&emsp; &emsp;   There are several ways this model could be improved. First, feature engineering could be performed. For instance, closed loops could be traced to eliminate false positives. Example: in the training data confusion matrix, we see that 8's were confused with 3's at a significant rate. With feature engineering and tracing closed loops, the posibility of a 3 in the case of an 8 could have perhaps been eliminated by counting the two closed loops of the 8. This is beyond the scope of this project. <br>\n",
    "&emsp; &emsp;   Secondly, more hyperparameter tuning on the SVC model could be performed. Initially, my goal was to perform a GridSearchCV over C, gamma, and kernel, as these are hyperparameters that contribute strongly to the accuracy of the model. However, even trying to tune 3 values for each proved to be too computationally intensive for my local machine, due to the high dimensionality of the data (785 columns). This was also a problem for running RandomSearchCV on the SGDClassifier because trying many combinations of hyperparameters was too computationally intensive as well."
   ]
  }
 ],
 "metadata": {
  "kernelspec": {
   "display_name": "Python 3",
   "language": "python",
   "name": "python3"
  },
  "language_info": {
   "codemirror_mode": {
    "name": "ipython",
    "version": 3
   },
   "file_extension": ".py",
   "mimetype": "text/x-python",
   "name": "python",
   "nbconvert_exporter": "python",
   "pygments_lexer": "ipython3",
   "version": "3.8.8"
  }
 },
 "nbformat": 4,
 "nbformat_minor": 5
}
