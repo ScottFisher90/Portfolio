{
 "cells": [
  {
   "cell_type": "markdown",
   "id": "cc6e48d0",
   "metadata": {},
   "source": [
    "<h1>Polygon Time Series Model</h1>\n",
    "A time series model using the Polygon.io API."
   ]
  },
  {
   "cell_type": "code",
   "execution_count": null,
   "id": "38dc1684",
   "metadata": {},
   "outputs": [],
   "source": [
    "#import necessary libraries\n",
    "import pandas as pd\n",
    "from datetime import date\n",
    "from matplotlib import pyplot as plt\n",
    "import seaborn as sns\n",
    "import requests\n",
    "import warnings;\n",
    "warnings.simplefilter('ignore')\n",
    "today = date.today()"
   ]
  },
  {
   "cell_type": "markdown",
   "id": "e5c6a960",
   "metadata": {},
   "source": [
    "Below, input your API key, the stock ticker of interest, the start date, and the amount of periods to forecast into the future."
   ]
  },
  {
   "cell_type": "code",
   "execution_count": null,
   "id": "6aaa3bb8",
   "metadata": {},
   "outputs": [],
   "source": [
    "#input all parameters\n",
    "api_key = \"XXXXXX\"\n",
    "stock_ticker = \"XXXX\"\n",
    "start_date = \"YYYY-MM-DD\"\n",
    "end_date = today.strftime(\"%Y-%m-%d\")\n",
    "#input future length\n",
    "periods = 60"
   ]
  },
  {
   "cell_type": "code",
   "execution_count": null,
   "id": "54802571",
   "metadata": {},
   "outputs": [],
   "source": [
    "#pulls data from Polygon\n",
    "get_request = \"https://api.polygon.io/v2/aggs/ticker/\" + stock_ticker + \"/range/1/day/\" + start_date + \"/\" + end_date + \"?adjusted=true&sort=asc&limit=50000&apiKey=\" + api_key\n",
    "request = requests.get(get_request)"
   ]
  },
  {
   "cell_type": "code",
   "execution_count": null,
   "id": "ae355081",
   "metadata": {},
   "outputs": [],
   "source": [
    "#create dataframe\n",
    "df1 = pd.read_json(request.content)\n",
    "df = pd.DataFrame(df1.results.values.tolist())\n",
    "df.columns = ['volume', 'volume_weighted_avg_price', 'open_price', 'close_price', 'high', 'low', 'time', 'transactions']\n",
    "df.head()"
   ]
  },
  {
   "cell_type": "code",
   "execution_count": null,
   "id": "3a8a82ed",
   "metadata": {},
   "outputs": [],
   "source": [
    "#convert Unix time to Y/M/D\n",
    "df['date'] = df['time'].apply(lambda x: date.fromtimestamp(x/1000).strftime('%Y-%m-%d'))\n",
    "df.drop(columns=['time'], inplace=True)\n",
    "df.head()"
   ]
  },
  {
   "cell_type": "markdown",
   "id": "71d8b7f5",
   "metadata": {},
   "source": [
    "<h1>Prophet Time Series:</h1>"
   ]
  },
  {
   "cell_type": "code",
   "execution_count": null,
   "id": "afb85f95",
   "metadata": {},
   "outputs": [],
   "source": [
    "#import prophet, create dataframe, and fit model\n",
    "from prophet import Prophet\n",
    "close_price_df = df[['date','close_price']]\n",
    "close_price_df.columns = ['ds', 'y']\n",
    "close_price_df['ds'] = pd.DatetimeIndex(close_price_df['ds'])\n",
    "model = Prophet(interval_width = .95, daily_seasonality=True)\n",
    "model.fit(close_price_df)\n"
   ]
  },
  {
   "cell_type": "code",
   "execution_count": null,
   "id": "e89af565",
   "metadata": {},
   "outputs": [],
   "source": [
    "#create future\n",
    "future = model.make_future_dataframe(periods)\n",
    "#predict with prophet model\n",
    "forecast = model.predict(future)\n",
    "forecast[['ds', 'yhat', 'yhat_lower', 'yhat_upper']].tail()\n"
   ]
  },
  {
   "cell_type": "code",
   "execution_count": null,
   "id": "79157873",
   "metadata": {},
   "outputs": [],
   "source": [
    "fig1 = model.plot(forecast)"
   ]
  },
  {
   "cell_type": "markdown",
   "id": "0426dd39",
   "metadata": {},
   "source": [
    "Above, we have a plot of the stock price data points, with the line of the Time Series plotted throughout. This will be different for each dataset and model."
   ]
  },
  {
   "cell_type": "code",
   "execution_count": null,
   "id": "67dc4480",
   "metadata": {},
   "outputs": [],
   "source": [
    "fig2 = model.plot_components(forecast)"
   ]
  },
  {
   "cell_type": "markdown",
   "id": "19fec0b0",
   "metadata": {},
   "source": [
    "Above, the three plots show the component importance. This will be different for each model."
   ]
  },
  {
   "cell_type": "code",
   "execution_count": null,
   "id": "c2394a4b",
   "metadata": {},
   "outputs": [],
   "source": []
  }
 ],
 "metadata": {
  "kernelspec": {
   "display_name": "Python 3",
   "language": "python",
   "name": "python3"
  },
  "language_info": {
   "codemirror_mode": {
    "name": "ipython",
    "version": 3
   },
   "file_extension": ".py",
   "mimetype": "text/x-python",
   "name": "python",
   "nbconvert_exporter": "python",
   "pygments_lexer": "ipython3",
   "version": "3.8.8"
  }
 },
 "nbformat": 4,
 "nbformat_minor": 5
}
